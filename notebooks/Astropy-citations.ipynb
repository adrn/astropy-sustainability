{
 "cells": [
  {
   "cell_type": "code",
   "execution_count": null,
   "metadata": {},
   "outputs": [],
   "source": [
    "import datetime\n",
    "import os\n",
    "\n",
    "import astropy.coordinates as coord\n",
    "import astropy.table as at\n",
    "import astropy.units as u\n",
    "import matplotlib as mpl\n",
    "import matplotlib.pyplot as plt\n",
    "plt.style.use('nbs.mplstyle')\n",
    "%matplotlib inline\n",
    "%config InlineBackend.figure_format = 'retina'\n",
    "import numpy as np\n",
    "import pandas as pd\n",
    "\n",
    "os.makedirs('../plots/', exist_ok=True)"
   ]
  },
  {
   "cell_type": "code",
   "execution_count": null,
   "metadata": {},
   "outputs": [],
   "source": [
    "astropy_df = pd.read_csv('../cache/astropy-citations.csv',\n",
    "                         index_col='pubdate', parse_dates=True)"
   ]
  },
  {
   "cell_type": "code",
   "execution_count": null,
   "metadata": {},
   "outputs": [],
   "source": [
    "N = len(astropy_df['authors'].str.split(';').explode().unique())\n",
    "print(f\"Total number of unique authors that cite Astropy: {N}\")"
   ]
  },
  {
   "cell_type": "markdown",
   "metadata": {},
   "source": [
    "# Journal statistics:"
   ]
  },
  {
   "cell_type": "code",
   "execution_count": null,
   "metadata": {},
   "outputs": [],
   "source": [
    "unq_journals, counts = np.unique(astropy_df.pub.values.astype(str), \n",
    "                                 return_counts=True)"
   ]
  },
  {
   "cell_type": "code",
   "execution_count": null,
   "metadata": {},
   "outputs": [],
   "source": [
    "print(f\"Number of journals that cite astropy: {len(unq_journals)}\")"
   ]
  },
  {
   "cell_type": "code",
   "execution_count": null,
   "metadata": {},
   "outputs": [],
   "source": [
    "astropy_df['pub'].astype(str).value_counts()[:20]"
   ]
  },
  {
   "cell_type": "markdown",
   "metadata": {},
   "source": [
    "## Top 10 authors that cite astropy as lead author:"
   ]
  },
  {
   "cell_type": "code",
   "execution_count": null,
   "metadata": {},
   "outputs": [],
   "source": [
    "astropy_df['authors'].str.split(';').apply(lambda x: x[0]).value_counts()[:10]"
   ]
  },
  {
   "cell_type": "markdown",
   "metadata": {},
   "source": [
    "## Top 25 authors that cite Astropy on co-authored papers:"
   ]
  },
  {
   "cell_type": "code",
   "execution_count": null,
   "metadata": {},
   "outputs": [],
   "source": [
    "astropy_df['authors'].str.split(';').explode().value_counts()[:20]"
   ]
  },
  {
   "cell_type": "markdown",
   "metadata": {},
   "source": [
    "## Number of citations per month:"
   ]
  },
  {
   "cell_type": "code",
   "execution_count": null,
   "metadata": {},
   "outputs": [],
   "source": [
    "g = astropy_df.groupby(by=[astropy_df.index.year, astropy_df.index.month]).count()\n",
    "\n",
    "group_dates = [datetime.date(x[0], x[1], 1) for x in g.index]\n",
    "group_dates_dec = [x[0] + x[1]/12 for x in g.index]\n",
    "\n",
    "for add_lines in [True, False]:\n",
    "    fig, ax = plt.subplots(figsize=(8, 6), constrained_layout=True)\n",
    "    ax.plot(group_dates, g['pubdate.1'].values, \n",
    "            marker='', drawstyle='steps-mid', \n",
    "            lw=2, color='tab:orange')\n",
    "    ax.set_xlim(datetime.date(2013, 8, 1),\n",
    "                datetime.datetime.now())\n",
    "\n",
    "    ax.set_xlabel('time')\n",
    "    ax.set_ylabel('Astropy papers\\nrefereed citations per month')\n",
    "    \n",
    "    if add_lines:\n",
    "        ylim = ax.get_ylim()\n",
    "        yptp = ylim[1] - ylim[0]\n",
    "        \n",
    "        ax.axvline(datetime.date(2013, 10, 1), \n",
    "                   zorder=-1, linestyle='--')\n",
    "        ax.axvline(datetime.date(2018, 9, 1), \n",
    "                   zorder=-1, linestyle='--')\n",
    "        \n",
    "        ax.text(datetime.date(2018, 10-2, 1), \n",
    "                ylim[1] - 0.05 * yptp,\n",
    "                'Astropy paper 2',\n",
    "                ha='right', va='top', fontsize=16)\n",
    "        \n",
    "        ax.text(datetime.date(2013, 10+1, 1), \n",
    "                ylim[1] - 0.05 * yptp,\n",
    "                'Astropy paper 1',\n",
    "                ha='left', va='top', fontsize=16)\n",
    "    \n",
    "    extra = '-lines' if add_lines else ''\n",
    "    \n",
    "    fig.text(1, 0, 'Source: NASA/ADS', fontsize=16, ha='right')\n",
    "    \n",
    "    fig.savefig(f'../plots/astropy-citations{extra}.png', dpi=300)"
   ]
  },
  {
   "cell_type": "code",
   "execution_count": null,
   "metadata": {},
   "outputs": [],
   "source": [
    "all_pubs = np.unique(astropy_df['pub'].values.astype(str))"
   ]
  },
  {
   "cell_type": "code",
   "execution_count": null,
   "metadata": {},
   "outputs": [],
   "source": [
    "g = astropy_df.groupby(by=[astropy_df.index.year, \n",
    "                           astropy_df.pub]).count()\n",
    "\n",
    "group_dates = np.array([datetime.date(x[0], 1, 1) for x in g.index])\n",
    "group_dates_dec = [x[0] for x in g.index]\n",
    "pubs = [str(x[1]) for x in g.index]\n",
    "\n",
    "# fig, ax = plt.subplots(figsize=(8, 6), constrained_layout=True)\n",
    "# ax.plot(group_dates, g['pubdate.1'].values, \n",
    "#         marker='', drawstyle='steps-mid', \n",
    "#         lw=2, color='tab:orange')\n",
    "# ax.set_xlim(datetime.date(2013, 8, 1),\n",
    "#             datetime.datetime.now())\n",
    "\n",
    "# ax.set_xlabel('time')\n",
    "# ax.set_ylabel('Astropy papers\\nrefereed citations per month')\n",
    "\n",
    "# fig.text(1, 0, 'Source: NASA/ADS', fontsize=16, ha='right')\n",
    "\n",
    "# # fig.savefig(f'../plots/astropy-citations{extra}.png', dpi=300)"
   ]
  },
  {
   "cell_type": "code",
   "execution_count": null,
   "metadata": {},
   "outputs": [],
   "source": [
    "fig, ax = plt.subplots(figsize=(8, 6), constrained_layout=True)\n",
    "\n",
    "for pub in all_pubs:\n",
    "    mask = pubs == np.array(pub)\n",
    "    \n",
    "    gg = g[mask]\n",
    "    dates = group_dates[mask]\n",
    "    if gg['year'].values.sum() < 50:\n",
    "        continue\n",
    "        \n",
    "    ax.plot(dates, gg['year'].values, \n",
    "            marker='', #drawstyle='steps-mid', \n",
    "            lw=2, label=pub)   \n",
    "    \n",
    "ax.set_xlim(datetime.date(2013, 8, 1),\n",
    "            datetime.datetime.now())\n",
    "\n",
    "ax.set_xlabel('time')\n",
    "ax.set_ylabel('Astropy papers\\nrefereed citations per year')\n",
    "\n",
    "ax.set_yscale('log')\n",
    "\n",
    "ax.legend()\n",
    "\n",
    "fig.text(1, 0, 'Source: NASA/ADS', fontsize=16, ha='right')\n",
    "\n",
    "fig.savefig(f'../plots/astropy-citations-per-journal.png', dpi=300)"
   ]
  },
  {
   "cell_type": "code",
   "execution_count": null,
   "metadata": {},
   "outputs": [],
   "source": [
    "fig, ax = plt.subplots(figsize=(8, 6), constrained_layout=True)\n",
    "\n",
    "for pub in all_pubs:\n",
    "    mask = pubs == np.array(pub)\n",
    "    \n",
    "    gg = g[mask]\n",
    "    dates = group_dates[mask]\n",
    "    if gg['year'].values.sum() >= 50 or gg['year'].values.sum() < 10:\n",
    "        continue\n",
    "        \n",
    "    ax.plot(dates, gg['year'].values, \n",
    "            marker='', #drawstyle='steps-mid', \n",
    "            lw=2, label=pub)   \n",
    "    \n",
    "ax.set_xlim(datetime.date(2013, 8, 1),\n",
    "            datetime.datetime.now())\n",
    "\n",
    "ax.set_xlabel('time')\n",
    "ax.set_ylabel('Astropy papers\\nrefereed citations per year')\n",
    "\n",
    "ax.set_yscale('log')\n",
    "\n",
    "ax.legend()\n",
    "\n",
    "fig.text(1, 0, 'Source: NASA/ADS', fontsize=16, ha='right')\n",
    "\n",
    "fig.savefig(f'../plots/astropy-citations-per-journal-few.png', dpi=300)"
   ]
  },
  {
   "cell_type": "markdown",
   "metadata": {},
   "source": [
    "Journals without many citations to Astropy:"
   ]
  },
  {
   "cell_type": "code",
   "execution_count": null,
   "metadata": {},
   "outputs": [],
   "source": [
    "for pub in all_pubs:\n",
    "    mask = pubs == np.array(pub)\n",
    "    \n",
    "    gg = g[mask]\n",
    "    dates = group_dates[mask]\n",
    "    if gg['year'].values.sum() >= 10:\n",
    "        continue\n",
    "        \n",
    "    print(pub)"
   ]
  },
  {
   "cell_type": "code",
   "execution_count": null,
   "metadata": {},
   "outputs": [],
   "source": []
  }
 ],
 "metadata": {
  "kernelspec": {
   "display_name": "Python [conda env:root] *",
   "language": "python",
   "name": "conda-root-py"
  },
  "language_info": {
   "codemirror_mode": {
    "name": "ipython",
    "version": 3
   },
   "file_extension": ".py",
   "mimetype": "text/x-python",
   "name": "python",
   "nbconvert_exporter": "python",
   "pygments_lexer": "ipython3",
   "version": "3.8.3"
  },
  "toc": {
   "base_numbering": 1,
   "nav_menu": {},
   "number_sections": true,
   "sideBar": true,
   "skip_h1_title": false,
   "title_cell": "Table of Contents",
   "title_sidebar": "Contents",
   "toc_cell": false,
   "toc_position": {},
   "toc_section_display": true,
   "toc_window_display": false
  }
 },
 "nbformat": 4,
 "nbformat_minor": 4
}
