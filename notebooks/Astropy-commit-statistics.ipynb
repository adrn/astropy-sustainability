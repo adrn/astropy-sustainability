{
 "cells": [
  {
   "cell_type": "code",
   "execution_count": null,
   "metadata": {},
   "outputs": [],
   "source": [
    "import datetime\n",
    "import glob\n",
    "import os\n",
    "\n",
    "import astropy.units as u\n",
    "import matplotlib as mpl\n",
    "import matplotlib.pyplot as plt\n",
    "plt.style.use('nbs.mplstyle')\n",
    "%matplotlib inline\n",
    "%config InlineBackend.figure_format = 'retina'\n",
    "import numpy as np\n",
    "import pandas as pd\n",
    "\n",
    "os.makedirs('../plots/', exist_ok=True)"
   ]
  },
  {
   "cell_type": "code",
   "execution_count": null,
   "metadata": {},
   "outputs": [],
   "source": [
    "df = pd.read_csv('../cache/gitlog.csv')\n",
    "df['date'] = pd.to_datetime(df['date'].apply(\n",
    "    lambda x: datetime.datetime.fromisoformat(x).date()))\n",
    "df = df.set_index('date')"
   ]
  },
  {
   "cell_type": "markdown",
   "metadata": {},
   "source": [
    "## Number of commits per committer"
   ]
  },
  {
   "cell_type": "code",
   "execution_count": null,
   "metadata": {},
   "outputs": [],
   "source": [
    "n_commits = df.groupby('author').size()\n",
    "\n",
    "fig, ax = plt.subplots(figsize=(8, 6), constrained_layout=True)\n",
    "\n",
    "_bins = 10 ** np.arange(0, 4+1e-3, 0.2)\n",
    "ax.hist(n_commits, bins=_bins, \n",
    "        histtype='stepfilled', color='#aaaaaa')\n",
    "\n",
    "ax.set_xscale('log')\n",
    "ax.set_yscale('log')\n",
    "ax.set_xlabel('number of Git commits')\n",
    "ax.set_ylabel('number of Git committers')\n",
    "\n",
    "ax.plot(_bins, 150*_bins**-0.5, marker='')\n",
    "\n",
    "xticks = [1, 10, 100, 1000]\n",
    "ax.set_xticks(xticks)\n",
    "ax.set_xticklabels([str(tick) for tick in xticks])\n",
    "\n",
    "yticks = [1, 10, 100]\n",
    "ax.set_yticks(yticks)\n",
    "ax.set_yticklabels([str(tick) for tick in yticks])\n",
    "\n",
    "ax.set_ylim(0.5, 200)\n",
    "ax.set_xlim(_bins.min(), _bins.max())\n",
    "\n",
    "ax.text(100, 20, r'$\\propto N^{-0.5}$', fontsize=20)\n",
    "\n",
    "fig.savefig(f'../plots/astropy-commits-committers.png', dpi=300)"
   ]
  },
  {
   "cell_type": "markdown",
   "metadata": {},
   "source": [
    "## Cumulative number of commits"
   ]
  },
  {
   "cell_type": "code",
   "execution_count": null,
   "metadata": {},
   "outputs": [],
   "source": [
    "date_bins = df.groupby(pd.Grouper(freq='D'))\n",
    "commits_per_day = date_bins.size()\n",
    "n_commits = commits_per_day.cumsum()\n",
    "\n",
    "fig, ax = plt.subplots(figsize=(8, 6), constrained_layout=True)\n",
    "\n",
    "n_commits = np.cumsum(commits_per_day)\n",
    "ax.fill_between(n_commits.index, 0, np.array(n_commits))\n",
    "\n",
    "ax.set_xlabel('year')\n",
    "ax.set_ylabel('cumulative Git commits')\n",
    "\n",
    "ax.set_xlim(datetime.datetime(2011, 6, 1), \n",
    "            datetime.datetime.now().date())\n",
    "\n",
    "ax.set_ylim(0, )\n",
    "\n",
    "fig.savefig(f'../plots/astropy-cumulative-commits.png', dpi=300)"
   ]
  },
  {
   "cell_type": "code",
   "execution_count": null,
   "metadata": {},
   "outputs": [],
   "source": [
    "date_bins = df.groupby(pd.Grouper(freq='M'))\n",
    "commits_per_month = date_bins.size()\n",
    "\n",
    "fig, ax = plt.subplots(figsize=(8, 6), constrained_layout=True)\n",
    "\n",
    "ax.plot(commits_per_month.index, np.array(commits_per_month),\n",
    "        drawstyle='steps-mid', marker='')\n",
    "\n",
    "ax.set_xlabel('year')\n",
    "ax.set_ylabel('Git commits per month')\n",
    "\n",
    "ax.set_xlim(datetime.datetime(2011, 6, 1), \n",
    "            datetime.datetime.now().date())\n",
    "\n",
    "ax.set_ylim(0, )\n",
    "\n",
    "fig.savefig(f'../plots/astropy-commits-per-month.png', dpi=300)"
   ]
  },
  {
   "cell_type": "markdown",
   "metadata": {},
   "source": [
    "## Monthly number of committers"
   ]
  },
  {
   "cell_type": "code",
   "execution_count": null,
   "metadata": {},
   "outputs": [],
   "source": [
    "groups = df.groupby(pd.Grouper(freq='M'))\n",
    "agg = groups.agg({\"author\": lambda x: x.nunique()})\n",
    "\n",
    "fig, ax = plt.subplots(figsize=(8, 6), constrained_layout=True)\n",
    "\n",
    "ax.plot(agg.index, agg['author'], drawstyle='steps-mid', marker='')\n",
    "ax.set_xlabel('year')\n",
    "ax.set_ylabel('Git committers per month')\n",
    "ax.set_xlim(datetime.datetime(2011, 6, 1), \n",
    "            datetime.datetime.now().date())\n",
    "ax.set_ylim(0, )\n",
    "\n",
    "fig.savefig(f'../plots/astropy-commiters-per-month.png', dpi=300)"
   ]
  },
  {
   "cell_type": "code",
   "execution_count": null,
   "metadata": {},
   "outputs": [],
   "source": []
  }
 ],
 "metadata": {
  "kernelspec": {
   "display_name": "Python [conda env:root] *",
   "language": "python",
   "name": "conda-root-py"
  },
  "language_info": {
   "codemirror_mode": {
    "name": "ipython",
    "version": 3
   },
   "file_extension": ".py",
   "mimetype": "text/x-python",
   "name": "python",
   "nbconvert_exporter": "python",
   "pygments_lexer": "ipython3",
   "version": "3.7.7"
  },
  "toc": {
   "base_numbering": 1,
   "nav_menu": {},
   "number_sections": true,
   "sideBar": true,
   "skip_h1_title": false,
   "title_cell": "Table of Contents",
   "title_sidebar": "Contents",
   "toc_cell": false,
   "toc_position": {},
   "toc_section_display": true,
   "toc_window_display": false
  }
 },
 "nbformat": 4,
 "nbformat_minor": 4
}
