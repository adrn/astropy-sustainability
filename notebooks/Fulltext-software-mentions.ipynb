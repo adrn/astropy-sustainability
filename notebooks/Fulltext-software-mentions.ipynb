{
 "cells": [
  {
   "cell_type": "code",
   "execution_count": null,
   "metadata": {},
   "outputs": [],
   "source": [
    "import datetime\n",
    "import glob\n",
    "import os\n",
    "\n",
    "import astropy.units as u\n",
    "import matplotlib as mpl\n",
    "import matplotlib.pyplot as plt\n",
    "plt.style.use('nbs.mplstyle')\n",
    "%matplotlib inline\n",
    "%config InlineBackend.figure_format = 'retina'\n",
    "import numpy as np\n",
    "import pandas as pd\n",
    "\n",
    "from scipy.stats import binned_statistic\n",
    "from scipy.ndimage import gaussian_filter1d\n",
    "\n",
    "os.makedirs('../plots', exist_ok=True)"
   ]
  },
  {
   "cell_type": "code",
   "execution_count": null,
   "metadata": {},
   "outputs": [],
   "source": [
    "dfs = {}\n",
    "\n",
    "for filename in glob.glob('../cache/*fulltext.csv'):\n",
    "    df = pd.read_csv(filename, index_col='pubdate', parse_dates=True)\n",
    "    name = os.path.basename(filename).split('-fulltext')[0]\n",
    "    dfs[name] = df"
   ]
  },
  {
   "cell_type": "code",
   "execution_count": null,
   "metadata": {},
   "outputs": [],
   "source": [
    "prog_languages = ['python', 'idl', 'julia', 'matlab']"
   ]
  },
  {
   "cell_type": "code",
   "execution_count": null,
   "metadata": {},
   "outputs": [],
   "source": [
    "for yscale in ['linear', 'log']:\n",
    "    fig, ax = plt.subplots(figsize=(8, 6), constrained_layout=True)\n",
    "\n",
    "    for name in prog_languages:\n",
    "        df = dfs[name]\n",
    "\n",
    "        g = df.groupby(by=[df.index.year]).count()\n",
    "        group_dates = np.array([datetime.date(x, 1, 1) for x in g.index])\n",
    "        mentions = g['pubdate.1'].values\n",
    "\n",
    "        if name == 'julia':\n",
    "            jmask = group_dates > datetime.date(2012, 1, 1)\n",
    "            group_dates = group_dates[jmask]\n",
    "            mentions = mentions[jmask]\n",
    "\n",
    "        ax.plot(group_dates, \n",
    "                mentions, \n",
    "                marker='', drawstyle='steps-mid', \n",
    "                lw=2, label=name)\n",
    "\n",
    "    ax.set_xlim(datetime.date(1991, 8, 1),\n",
    "                datetime.datetime.now() - datetime.timedelta(days=60))\n",
    "    \n",
    "    ax.legend(loc='upper left', fontsize=16)\n",
    "\n",
    "    ax.set_xlabel('time')\n",
    "    ax.set_ylabel('Fulltext mentions per year')\n",
    "\n",
    "    ax.set_yscale(yscale)\n",
    "    \n",
    "    fig.text(1, 0, 'Source: NASA/ADS', fontsize=16, ha='right')\n",
    "    \n",
    "    fig.savefig(f'../plots/prog-lang-fulltext-{yscale}.png', dpi=300)"
   ]
  },
  {
   "cell_type": "code",
   "execution_count": null,
   "metadata": {},
   "outputs": [],
   "source": [
    "for yscale in ['linear', 'log']:\n",
    "    fig, ax = plt.subplots(figsize=(8, 6), constrained_layout=True)\n",
    "\n",
    "    for name in prog_languages:\n",
    "        df = dfs[name]\n",
    "\n",
    "        g = df.groupby(by=[df.index.year, df.index.month]).count()\n",
    "        \n",
    "        group_dates = np.array([datetime.date(x[0], x[1], 1) for x in g.index])\n",
    "        mentions = g['pubdate.1'].values\n",
    "\n",
    "        if name == 'julia':\n",
    "            jmask = group_dates > datetime.date(2012, 1, 1)\n",
    "            group_dates = group_dates[jmask]\n",
    "            mentions = mentions[jmask]\n",
    "\n",
    "        ax.plot(group_dates, \n",
    "                mentions, \n",
    "                marker='', drawstyle='steps-mid', \n",
    "                lw=1, label=name)\n",
    "\n",
    "    ax.set_xlim(datetime.date(1991, 8, 1),\n",
    "                datetime.datetime.now() - datetime.timedelta(days=60))\n",
    "    \n",
    "    ax.legend(loc='upper left', fontsize=16)\n",
    "\n",
    "    ax.set_xlabel('time')\n",
    "    ax.set_ylabel('Fulltext mentions per month')\n",
    "\n",
    "    ax.set_yscale(yscale)\n",
    "    \n",
    "    fig.text(1, 0, 'Source: NASA/ADS', fontsize=16, ha='right')\n",
    "\n",
    "    fig.savefig(f'../plots/prog-lang-fulltext-{yscale}-monthly.png', dpi=300)"
   ]
  },
  {
   "cell_type": "code",
   "execution_count": null,
   "metadata": {},
   "outputs": [],
   "source": [
    "for yscale in ['linear', 'log']:\n",
    "    fig, ax = plt.subplots(figsize=(8, 6), constrained_layout=True)\n",
    "    \n",
    "    bins = np.arange(1980, datetime.datetime.now().year+1, 1) + 0.5\n",
    "    for name in ['astropy', 'iraf']:\n",
    "        df = dfs[name]\n",
    "        years = 0.5 * (bins[:-1] + bins[1:])\n",
    "        H, _ = np.histogram(df.index.year, bins=bins)\n",
    "        ax.plot(years, H,\n",
    "                marker='', drawstyle='steps-mid', \n",
    "                lw=2, label=name)\n",
    "\n",
    "    ax.set_xlim(years.min(), years.max())\n",
    "    \n",
    "    ax.legend(loc='upper left', fontsize=16)\n",
    "\n",
    "    ax.set_xlabel('time')\n",
    "    ax.set_ylabel('Fulltext mentions per year')\n",
    "\n",
    "    ax.set_yscale(yscale)\n",
    "    \n",
    "    fig.text(1, 0, 'Source: NASA/ADS', fontsize=16, ha='right')\n",
    "\n",
    "    fig.savefig(f'../plots/astropy-iraf-fulltext-{yscale}-yearly.png', dpi=300)"
   ]
  },
  {
   "cell_type": "code",
   "execution_count": null,
   "metadata": {},
   "outputs": [],
   "source": []
  }
 ],
 "metadata": {
  "kernelspec": {
   "display_name": "Python [conda env:root] *",
   "language": "python",
   "name": "conda-root-py"
  },
  "language_info": {
   "codemirror_mode": {
    "name": "ipython",
    "version": 3
   },
   "file_extension": ".py",
   "mimetype": "text/x-python",
   "name": "python",
   "nbconvert_exporter": "python",
   "pygments_lexer": "ipython3",
   "version": "3.7.7"
  },
  "toc": {
   "base_numbering": 1,
   "nav_menu": {},
   "number_sections": true,
   "sideBar": true,
   "skip_h1_title": false,
   "title_cell": "Table of Contents",
   "title_sidebar": "Contents",
   "toc_cell": false,
   "toc_position": {},
   "toc_section_display": true,
   "toc_window_display": false
  }
 },
 "nbformat": 4,
 "nbformat_minor": 4
}
